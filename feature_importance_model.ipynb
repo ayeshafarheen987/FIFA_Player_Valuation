{
 "cells": [
  {
   "cell_type": "code",
   "execution_count": 1,
   "id": "427a47ec",
   "metadata": {},
   "outputs": [],
   "source": [
    "import numpy as np\n",
    "import pandas as pd\n",
    "import seaborn as sns\n",
    "import matplotlib.pyplot as plt\n",
    "import scipy.stats as st\n",
    "from sklearn.model_selection import train_test_split\n",
    "from sklearn.preprocessing import PowerTransformer\n",
    "from sklearn.linear_model import LinearRegression\n",
    "from sklearn.model_selection import cross_val_score\n",
    "from sklearn.metrics import r2_score\n",
    "pd.pandas.set_option('display.max_columns',None)\n",
    "from xgboost import XGBRegressor\n",
    "pd.options.display.max_rows=100\n",
    "import warnings\n",
    "warnings.filterwarnings(\"ignore\")\n",
    "from tqdm import tqdm"
   ]
  },
  {
   "cell_type": "code",
   "execution_count": 2,
   "id": "d8e27a8d",
   "metadata": {},
   "outputs": [],
   "source": [
    "df=pd.read_csv('n1.csv')"
   ]
  },
  {
   "cell_type": "code",
   "execution_count": 3,
   "id": "1ea46c34",
   "metadata": {},
   "outputs": [
    {
     "data": {
      "text/plain": [
       "181"
      ]
     },
     "execution_count": 3,
     "metadata": {},
     "output_type": "execute_result"
    }
   ],
   "source": [
    "df.duplicated().sum()"
   ]
  },
  {
   "cell_type": "code",
   "execution_count": 4,
   "id": "79e265fa",
   "metadata": {},
   "outputs": [],
   "source": [
    "df=df.drop_duplicates(ignore_index=True)"
   ]
  },
  {
   "cell_type": "code",
   "execution_count": null,
   "id": "e2e31815",
   "metadata": {},
   "outputs": [],
   "source": []
  },
  {
   "cell_type": "code",
   "execution_count": 5,
   "id": "7b753b85",
   "metadata": {},
   "outputs": [],
   "source": [
    "df1=df.drop(['Crossing','Finishing','Heading Accuracy','Short Passing','Volleys','Dribbling','Curve','FK Accuracy','Long Passing','Ball Control','Acceleration','Sprint Speed','Agility','Reactions','Balance','Shot Power','Jumping','Stamina','Strength','Long Shots','Aggression','Interceptions','Positioning','Vision','Penalties','Composure','Marking','Standing Tackle','Sliding Tackle','GK Diving', 'GK Handling','GK Kicking', 'GK Positioning', 'GK Reflexes','day','month','dayofweek','Total'],axis=1)"
   ]
  },
  {
   "cell_type": "code",
   "execution_count": 6,
   "id": "92dcc2c3",
   "metadata": {},
   "outputs": [
    {
     "data": {
      "text/html": [
       "<div>\n",
       "<style scoped>\n",
       "    .dataframe tbody tr th:only-of-type {\n",
       "        vertical-align: middle;\n",
       "    }\n",
       "\n",
       "    .dataframe tbody tr th {\n",
       "        vertical-align: top;\n",
       "    }\n",
       "\n",
       "    .dataframe thead th {\n",
       "        text-align: right;\n",
       "    }\n",
       "</style>\n",
       "<table border=\"1\" class=\"dataframe\">\n",
       "  <thead>\n",
       "    <tr style=\"text-align: right;\">\n",
       "      <th></th>\n",
       "      <th>Age</th>\n",
       "      <th>Overall_rating</th>\n",
       "      <th>Potential</th>\n",
       "      <th>Height</th>\n",
       "      <th>Weight</th>\n",
       "      <th>foot</th>\n",
       "      <th>Best_overall</th>\n",
       "      <th>Growth</th>\n",
       "      <th>Value</th>\n",
       "      <th>Wage</th>\n",
       "      <th>Release Clause</th>\n",
       "      <th>Attacking</th>\n",
       "      <th>Skill</th>\n",
       "      <th>Movement</th>\n",
       "      <th>Power</th>\n",
       "      <th>Mentality</th>\n",
       "      <th>Defending</th>\n",
       "      <th>Goalkeeping</th>\n",
       "      <th>Base Stats</th>\n",
       "      <th>Weak_foot</th>\n",
       "      <th>Skill_moves</th>\n",
       "      <th>Attacking_WorkRate</th>\n",
       "      <th>Defensive_WorkRate</th>\n",
       "      <th>IR</th>\n",
       "      <th>Body Type</th>\n",
       "      <th>Pace/Diving</th>\n",
       "      <th>Shooting/Handling</th>\n",
       "      <th>Passing/Kicking</th>\n",
       "      <th>Dribling/Reflexes</th>\n",
       "      <th>Defending/Pace</th>\n",
       "      <th>Physical/Positioning</th>\n",
       "      <th>end_year</th>\n",
       "      <th>year</th>\n",
       "      <th>quarter</th>\n",
       "      <th>Nation_level</th>\n",
       "      <th>Position_F</th>\n",
       "      <th>Position_G</th>\n",
       "      <th>Position_M</th>\n",
       "    </tr>\n",
       "  </thead>\n",
       "  <tbody>\n",
       "    <tr>\n",
       "      <th>0</th>\n",
       "      <td>19</td>\n",
       "      <td>81</td>\n",
       "      <td>90</td>\n",
       "      <td>183</td>\n",
       "      <td>70</td>\n",
       "      <td>1</td>\n",
       "      <td>83</td>\n",
       "      <td>9</td>\n",
       "      <td>55500000.0</td>\n",
       "      <td>39000.0</td>\n",
       "      <td>102700000.0</td>\n",
       "      <td>337</td>\n",
       "      <td>361</td>\n",
       "      <td>416</td>\n",
       "      <td>329</td>\n",
       "      <td>329</td>\n",
       "      <td>196</td>\n",
       "      <td>42</td>\n",
       "      <td>434</td>\n",
       "      <td>4</td>\n",
       "      <td>4</td>\n",
       "      <td>1</td>\n",
       "      <td>1</td>\n",
       "      <td>1</td>\n",
       "      <td>1</td>\n",
       "      <td>75</td>\n",
       "      <td>73</td>\n",
       "      <td>75</td>\n",
       "      <td>87</td>\n",
       "      <td>63</td>\n",
       "      <td>60</td>\n",
       "      <td>2026</td>\n",
       "      <td>2020</td>\n",
       "      <td>2</td>\n",
       "      <td>2</td>\n",
       "      <td>0</td>\n",
       "      <td>0</td>\n",
       "      <td>1</td>\n",
       "    </tr>\n",
       "    <tr>\n",
       "      <th>1</th>\n",
       "      <td>21</td>\n",
       "      <td>77</td>\n",
       "      <td>86</td>\n",
       "      <td>185</td>\n",
       "      <td>80</td>\n",
       "      <td>1</td>\n",
       "      <td>79</td>\n",
       "      <td>9</td>\n",
       "      <td>23500000.0</td>\n",
       "      <td>21000.0</td>\n",
       "      <td>44700000.0</td>\n",
       "      <td>342</td>\n",
       "      <td>363</td>\n",
       "      <td>369</td>\n",
       "      <td>355</td>\n",
       "      <td>339</td>\n",
       "      <td>208</td>\n",
       "      <td>51</td>\n",
       "      <td>435</td>\n",
       "      <td>3</td>\n",
       "      <td>4</td>\n",
       "      <td>2</td>\n",
       "      <td>2</td>\n",
       "      <td>1</td>\n",
       "      <td>1</td>\n",
       "      <td>71</td>\n",
       "      <td>69</td>\n",
       "      <td>74</td>\n",
       "      <td>81</td>\n",
       "      <td>69</td>\n",
       "      <td>70</td>\n",
       "      <td>2025</td>\n",
       "      <td>2021</td>\n",
       "      <td>1</td>\n",
       "      <td>2</td>\n",
       "      <td>0</td>\n",
       "      <td>0</td>\n",
       "      <td>1</td>\n",
       "    </tr>\n",
       "    <tr>\n",
       "      <th>2</th>\n",
       "      <td>21</td>\n",
       "      <td>74</td>\n",
       "      <td>84</td>\n",
       "      <td>183</td>\n",
       "      <td>70</td>\n",
       "      <td>1</td>\n",
       "      <td>76</td>\n",
       "      <td>10</td>\n",
       "      <td>9500000.0</td>\n",
       "      <td>33000.0</td>\n",
       "      <td>18100000.0</td>\n",
       "      <td>326</td>\n",
       "      <td>366</td>\n",
       "      <td>383</td>\n",
       "      <td>328</td>\n",
       "      <td>302</td>\n",
       "      <td>114</td>\n",
       "      <td>54</td>\n",
       "      <td>405</td>\n",
       "      <td>5</td>\n",
       "      <td>4</td>\n",
       "      <td>1</td>\n",
       "      <td>1</td>\n",
       "      <td>1</td>\n",
       "      <td>2</td>\n",
       "      <td>81</td>\n",
       "      <td>66</td>\n",
       "      <td>71</td>\n",
       "      <td>79</td>\n",
       "      <td>41</td>\n",
       "      <td>66</td>\n",
       "      <td>2027</td>\n",
       "      <td>2022</td>\n",
       "      <td>3</td>\n",
       "      <td>2</td>\n",
       "      <td>0</td>\n",
       "      <td>0</td>\n",
       "      <td>1</td>\n",
       "    </tr>\n",
       "    <tr>\n",
       "      <th>3</th>\n",
       "      <td>21</td>\n",
       "      <td>74</td>\n",
       "      <td>84</td>\n",
       "      <td>175</td>\n",
       "      <td>61</td>\n",
       "      <td>1</td>\n",
       "      <td>75</td>\n",
       "      <td>10</td>\n",
       "      <td>9500000.0</td>\n",
       "      <td>700.0</td>\n",
       "      <td>22800000.0</td>\n",
       "      <td>286</td>\n",
       "      <td>342</td>\n",
       "      <td>400</td>\n",
       "      <td>303</td>\n",
       "      <td>284</td>\n",
       "      <td>141</td>\n",
       "      <td>49</td>\n",
       "      <td>399</td>\n",
       "      <td>4</td>\n",
       "      <td>4</td>\n",
       "      <td>2</td>\n",
       "      <td>1</td>\n",
       "      <td>1</td>\n",
       "      <td>1</td>\n",
       "      <td>88</td>\n",
       "      <td>63</td>\n",
       "      <td>67</td>\n",
       "      <td>78</td>\n",
       "      <td>44</td>\n",
       "      <td>58</td>\n",
       "      <td>2026</td>\n",
       "      <td>2018</td>\n",
       "      <td>4</td>\n",
       "      <td>2</td>\n",
       "      <td>0</td>\n",
       "      <td>0</td>\n",
       "      <td>1</td>\n",
       "    </tr>\n",
       "    <tr>\n",
       "      <th>4</th>\n",
       "      <td>18</td>\n",
       "      <td>73</td>\n",
       "      <td>88</td>\n",
       "      <td>176</td>\n",
       "      <td>71</td>\n",
       "      <td>0</td>\n",
       "      <td>74</td>\n",
       "      <td>15</td>\n",
       "      <td>7000000.0</td>\n",
       "      <td>19000.0</td>\n",
       "      <td>17700000.0</td>\n",
       "      <td>288</td>\n",
       "      <td>374</td>\n",
       "      <td>375</td>\n",
       "      <td>291</td>\n",
       "      <td>277</td>\n",
       "      <td>57</td>\n",
       "      <td>43</td>\n",
       "      <td>368</td>\n",
       "      <td>5</td>\n",
       "      <td>5</td>\n",
       "      <td>2</td>\n",
       "      <td>0</td>\n",
       "      <td>1</td>\n",
       "      <td>0</td>\n",
       "      <td>70</td>\n",
       "      <td>67</td>\n",
       "      <td>68</td>\n",
       "      <td>82</td>\n",
       "      <td>21</td>\n",
       "      <td>59</td>\n",
       "      <td>2023</td>\n",
       "      <td>2019</td>\n",
       "      <td>3</td>\n",
       "      <td>2</td>\n",
       "      <td>0</td>\n",
       "      <td>0</td>\n",
       "      <td>1</td>\n",
       "    </tr>\n",
       "    <tr>\n",
       "      <th>...</th>\n",
       "      <td>...</td>\n",
       "      <td>...</td>\n",
       "      <td>...</td>\n",
       "      <td>...</td>\n",
       "      <td>...</td>\n",
       "      <td>...</td>\n",
       "      <td>...</td>\n",
       "      <td>...</td>\n",
       "      <td>...</td>\n",
       "      <td>...</td>\n",
       "      <td>...</td>\n",
       "      <td>...</td>\n",
       "      <td>...</td>\n",
       "      <td>...</td>\n",
       "      <td>...</td>\n",
       "      <td>...</td>\n",
       "      <td>...</td>\n",
       "      <td>...</td>\n",
       "      <td>...</td>\n",
       "      <td>...</td>\n",
       "      <td>...</td>\n",
       "      <td>...</td>\n",
       "      <td>...</td>\n",
       "      <td>...</td>\n",
       "      <td>...</td>\n",
       "      <td>...</td>\n",
       "      <td>...</td>\n",
       "      <td>...</td>\n",
       "      <td>...</td>\n",
       "      <td>...</td>\n",
       "      <td>...</td>\n",
       "      <td>...</td>\n",
       "      <td>...</td>\n",
       "      <td>...</td>\n",
       "      <td>...</td>\n",
       "      <td>...</td>\n",
       "      <td>...</td>\n",
       "      <td>...</td>\n",
       "    </tr>\n",
       "    <tr>\n",
       "      <th>17029</th>\n",
       "      <td>22</td>\n",
       "      <td>65</td>\n",
       "      <td>73</td>\n",
       "      <td>185</td>\n",
       "      <td>72</td>\n",
       "      <td>0</td>\n",
       "      <td>67</td>\n",
       "      <td>8</td>\n",
       "      <td>1600000.0</td>\n",
       "      <td>4000.0</td>\n",
       "      <td>2300000.0</td>\n",
       "      <td>274</td>\n",
       "      <td>294</td>\n",
       "      <td>332</td>\n",
       "      <td>291</td>\n",
       "      <td>292</td>\n",
       "      <td>175</td>\n",
       "      <td>46</td>\n",
       "      <td>369</td>\n",
       "      <td>3</td>\n",
       "      <td>2</td>\n",
       "      <td>1</td>\n",
       "      <td>1</td>\n",
       "      <td>1</td>\n",
       "      <td>2</td>\n",
       "      <td>68</td>\n",
       "      <td>49</td>\n",
       "      <td>63</td>\n",
       "      <td>65</td>\n",
       "      <td>59</td>\n",
       "      <td>65</td>\n",
       "      <td>2025</td>\n",
       "      <td>2021</td>\n",
       "      <td>3</td>\n",
       "      <td>1</td>\n",
       "      <td>0</td>\n",
       "      <td>0</td>\n",
       "      <td>1</td>\n",
       "    </tr>\n",
       "    <tr>\n",
       "      <th>17030</th>\n",
       "      <td>24</td>\n",
       "      <td>73</td>\n",
       "      <td>76</td>\n",
       "      <td>176</td>\n",
       "      <td>72</td>\n",
       "      <td>1</td>\n",
       "      <td>74</td>\n",
       "      <td>3</td>\n",
       "      <td>3800000.0</td>\n",
       "      <td>750.0</td>\n",
       "      <td>8600000.0</td>\n",
       "      <td>314</td>\n",
       "      <td>304</td>\n",
       "      <td>397</td>\n",
       "      <td>336</td>\n",
       "      <td>317</td>\n",
       "      <td>200</td>\n",
       "      <td>53</td>\n",
       "      <td>415</td>\n",
       "      <td>2</td>\n",
       "      <td>2</td>\n",
       "      <td>2</td>\n",
       "      <td>0</td>\n",
       "      <td>1</td>\n",
       "      <td>1</td>\n",
       "      <td>82</td>\n",
       "      <td>64</td>\n",
       "      <td>67</td>\n",
       "      <td>74</td>\n",
       "      <td>66</td>\n",
       "      <td>62</td>\n",
       "      <td>2023</td>\n",
       "      <td>2015</td>\n",
       "      <td>3</td>\n",
       "      <td>0</td>\n",
       "      <td>0</td>\n",
       "      <td>0</td>\n",
       "      <td>1</td>\n",
       "    </tr>\n",
       "    <tr>\n",
       "      <th>17031</th>\n",
       "      <td>25</td>\n",
       "      <td>69</td>\n",
       "      <td>72</td>\n",
       "      <td>184</td>\n",
       "      <td>79</td>\n",
       "      <td>1</td>\n",
       "      <td>69</td>\n",
       "      <td>3</td>\n",
       "      <td>1400000.0</td>\n",
       "      <td>6000.0</td>\n",
       "      <td>2100000.0</td>\n",
       "      <td>80</td>\n",
       "      <td>103</td>\n",
       "      <td>248</td>\n",
       "      <td>232</td>\n",
       "      <td>104</td>\n",
       "      <td>38</td>\n",
       "      <td>341</td>\n",
       "      <td>389</td>\n",
       "      <td>2</td>\n",
       "      <td>1</td>\n",
       "      <td>1</td>\n",
       "      <td>1</td>\n",
       "      <td>1</td>\n",
       "      <td>2</td>\n",
       "      <td>72</td>\n",
       "      <td>66</td>\n",
       "      <td>65</td>\n",
       "      <td>69</td>\n",
       "      <td>48</td>\n",
       "      <td>69</td>\n",
       "      <td>2024</td>\n",
       "      <td>2018</td>\n",
       "      <td>4</td>\n",
       "      <td>2</td>\n",
       "      <td>0</td>\n",
       "      <td>1</td>\n",
       "      <td>0</td>\n",
       "    </tr>\n",
       "    <tr>\n",
       "      <th>17032</th>\n",
       "      <td>21</td>\n",
       "      <td>58</td>\n",
       "      <td>66</td>\n",
       "      <td>184</td>\n",
       "      <td>85</td>\n",
       "      <td>1</td>\n",
       "      <td>60</td>\n",
       "      <td>8</td>\n",
       "      <td>425000.0</td>\n",
       "      <td>2000.0</td>\n",
       "      <td>829000.0</td>\n",
       "      <td>184</td>\n",
       "      <td>199</td>\n",
       "      <td>266</td>\n",
       "      <td>268</td>\n",
       "      <td>209</td>\n",
       "      <td>172</td>\n",
       "      <td>51</td>\n",
       "      <td>292</td>\n",
       "      <td>3</td>\n",
       "      <td>2</td>\n",
       "      <td>0</td>\n",
       "      <td>2</td>\n",
       "      <td>1</td>\n",
       "      <td>0</td>\n",
       "      <td>54</td>\n",
       "      <td>26</td>\n",
       "      <td>43</td>\n",
       "      <td>47</td>\n",
       "      <td>57</td>\n",
       "      <td>65</td>\n",
       "      <td>2024</td>\n",
       "      <td>2022</td>\n",
       "      <td>3</td>\n",
       "      <td>2</td>\n",
       "      <td>0</td>\n",
       "      <td>0</td>\n",
       "      <td>0</td>\n",
       "    </tr>\n",
       "    <tr>\n",
       "      <th>17033</th>\n",
       "      <td>25</td>\n",
       "      <td>69</td>\n",
       "      <td>74</td>\n",
       "      <td>175</td>\n",
       "      <td>72</td>\n",
       "      <td>1</td>\n",
       "      <td>70</td>\n",
       "      <td>5</td>\n",
       "      <td>1900000.0</td>\n",
       "      <td>4000.0</td>\n",
       "      <td>3000000.0</td>\n",
       "      <td>295</td>\n",
       "      <td>294</td>\n",
       "      <td>344</td>\n",
       "      <td>326</td>\n",
       "      <td>292</td>\n",
       "      <td>196</td>\n",
       "      <td>53</td>\n",
       "      <td>387</td>\n",
       "      <td>3</td>\n",
       "      <td>3</td>\n",
       "      <td>1</td>\n",
       "      <td>1</td>\n",
       "      <td>1</td>\n",
       "      <td>2</td>\n",
       "      <td>68</td>\n",
       "      <td>57</td>\n",
       "      <td>64</td>\n",
       "      <td>64</td>\n",
       "      <td>65</td>\n",
       "      <td>68</td>\n",
       "      <td>2023</td>\n",
       "      <td>2022</td>\n",
       "      <td>3</td>\n",
       "      <td>1</td>\n",
       "      <td>0</td>\n",
       "      <td>0</td>\n",
       "      <td>1</td>\n",
       "    </tr>\n",
       "  </tbody>\n",
       "</table>\n",
       "<p>17034 rows × 38 columns</p>\n",
       "</div>"
      ],
      "text/plain": [
       "       Age  Overall_rating  Potential  Height  Weight  foot  Best_overall  \\\n",
       "0       19              81         90     183      70     1            83   \n",
       "1       21              77         86     185      80     1            79   \n",
       "2       21              74         84     183      70     1            76   \n",
       "3       21              74         84     175      61     1            75   \n",
       "4       18              73         88     176      71     0            74   \n",
       "...    ...             ...        ...     ...     ...   ...           ...   \n",
       "17029   22              65         73     185      72     0            67   \n",
       "17030   24              73         76     176      72     1            74   \n",
       "17031   25              69         72     184      79     1            69   \n",
       "17032   21              58         66     184      85     1            60   \n",
       "17033   25              69         74     175      72     1            70   \n",
       "\n",
       "       Growth       Value     Wage  Release Clause  Attacking  Skill  \\\n",
       "0           9  55500000.0  39000.0     102700000.0        337    361   \n",
       "1           9  23500000.0  21000.0      44700000.0        342    363   \n",
       "2          10   9500000.0  33000.0      18100000.0        326    366   \n",
       "3          10   9500000.0    700.0      22800000.0        286    342   \n",
       "4          15   7000000.0  19000.0      17700000.0        288    374   \n",
       "...       ...         ...      ...             ...        ...    ...   \n",
       "17029       8   1600000.0   4000.0       2300000.0        274    294   \n",
       "17030       3   3800000.0    750.0       8600000.0        314    304   \n",
       "17031       3   1400000.0   6000.0       2100000.0         80    103   \n",
       "17032       8    425000.0   2000.0        829000.0        184    199   \n",
       "17033       5   1900000.0   4000.0       3000000.0        295    294   \n",
       "\n",
       "       Movement  Power  Mentality  Defending  Goalkeeping  Base Stats  \\\n",
       "0           416    329        329        196           42         434   \n",
       "1           369    355        339        208           51         435   \n",
       "2           383    328        302        114           54         405   \n",
       "3           400    303        284        141           49         399   \n",
       "4           375    291        277         57           43         368   \n",
       "...         ...    ...        ...        ...          ...         ...   \n",
       "17029       332    291        292        175           46         369   \n",
       "17030       397    336        317        200           53         415   \n",
       "17031       248    232        104         38          341         389   \n",
       "17032       266    268        209        172           51         292   \n",
       "17033       344    326        292        196           53         387   \n",
       "\n",
       "       Weak_foot  Skill_moves  Attacking_WorkRate  Defensive_WorkRate  IR  \\\n",
       "0              4            4                   1                   1   1   \n",
       "1              3            4                   2                   2   1   \n",
       "2              5            4                   1                   1   1   \n",
       "3              4            4                   2                   1   1   \n",
       "4              5            5                   2                   0   1   \n",
       "...          ...          ...                 ...                 ...  ..   \n",
       "17029          3            2                   1                   1   1   \n",
       "17030          2            2                   2                   0   1   \n",
       "17031          2            1                   1                   1   1   \n",
       "17032          3            2                   0                   2   1   \n",
       "17033          3            3                   1                   1   1   \n",
       "\n",
       "       Body Type  Pace/Diving  Shooting/Handling  Passing/Kicking  \\\n",
       "0              1           75                 73               75   \n",
       "1              1           71                 69               74   \n",
       "2              2           81                 66               71   \n",
       "3              1           88                 63               67   \n",
       "4              0           70                 67               68   \n",
       "...          ...          ...                ...              ...   \n",
       "17029          2           68                 49               63   \n",
       "17030          1           82                 64               67   \n",
       "17031          2           72                 66               65   \n",
       "17032          0           54                 26               43   \n",
       "17033          2           68                 57               64   \n",
       "\n",
       "       Dribling/Reflexes  Defending/Pace  Physical/Positioning  end_year  \\\n",
       "0                     87              63                    60      2026   \n",
       "1                     81              69                    70      2025   \n",
       "2                     79              41                    66      2027   \n",
       "3                     78              44                    58      2026   \n",
       "4                     82              21                    59      2023   \n",
       "...                  ...             ...                   ...       ...   \n",
       "17029                 65              59                    65      2025   \n",
       "17030                 74              66                    62      2023   \n",
       "17031                 69              48                    69      2024   \n",
       "17032                 47              57                    65      2024   \n",
       "17033                 64              65                    68      2023   \n",
       "\n",
       "       year  quarter  Nation_level  Position_F  Position_G  Position_M  \n",
       "0      2020        2             2           0           0           1  \n",
       "1      2021        1             2           0           0           1  \n",
       "2      2022        3             2           0           0           1  \n",
       "3      2018        4             2           0           0           1  \n",
       "4      2019        3             2           0           0           1  \n",
       "...     ...      ...           ...         ...         ...         ...  \n",
       "17029  2021        3             1           0           0           1  \n",
       "17030  2015        3             0           0           0           1  \n",
       "17031  2018        4             2           0           1           0  \n",
       "17032  2022        3             2           0           0           0  \n",
       "17033  2022        3             1           0           0           1  \n",
       "\n",
       "[17034 rows x 38 columns]"
      ]
     },
     "execution_count": 6,
     "metadata": {},
     "output_type": "execute_result"
    }
   ],
   "source": [
    "df1"
   ]
  },
  {
   "cell_type": "code",
   "execution_count": 7,
   "id": "397bfdac",
   "metadata": {},
   "outputs": [
    {
     "data": {
      "text/plain": [
       "0"
      ]
     },
     "execution_count": 7,
     "metadata": {},
     "output_type": "execute_result"
    }
   ],
   "source": [
    "df1.duplicated().sum()"
   ]
  },
  {
   "cell_type": "code",
   "execution_count": 8,
   "id": "83a3f12a",
   "metadata": {},
   "outputs": [
    {
     "name": "stdout",
     "output_type": "stream",
     "text": [
      "<class 'pandas.core.frame.DataFrame'>\n",
      "RangeIndex: 17034 entries, 0 to 17033\n",
      "Data columns (total 38 columns):\n",
      " #   Column                Non-Null Count  Dtype  \n",
      "---  ------                --------------  -----  \n",
      " 0   Age                   17034 non-null  int64  \n",
      " 1   Overall_rating        17034 non-null  int64  \n",
      " 2   Potential             17034 non-null  int64  \n",
      " 3   Height                17034 non-null  int64  \n",
      " 4   Weight                17034 non-null  int64  \n",
      " 5   foot                  17034 non-null  int64  \n",
      " 6   Best_overall          17034 non-null  int64  \n",
      " 7   Growth                17034 non-null  int64  \n",
      " 8   Value                 17034 non-null  float64\n",
      " 9   Wage                  17034 non-null  float64\n",
      " 10  Release Clause        17034 non-null  float64\n",
      " 11  Attacking             17034 non-null  int64  \n",
      " 12  Skill                 17034 non-null  int64  \n",
      " 13  Movement              17034 non-null  int64  \n",
      " 14  Power                 17034 non-null  int64  \n",
      " 15  Mentality             17034 non-null  int64  \n",
      " 16  Defending             17034 non-null  int64  \n",
      " 17  Goalkeeping           17034 non-null  int64  \n",
      " 18  Base Stats            17034 non-null  int64  \n",
      " 19  Weak_foot             17034 non-null  int64  \n",
      " 20  Skill_moves           17034 non-null  int64  \n",
      " 21  Attacking_WorkRate    17034 non-null  int64  \n",
      " 22  Defensive_WorkRate    17034 non-null  int64  \n",
      " 23  IR                    17034 non-null  int64  \n",
      " 24  Body Type             17034 non-null  int64  \n",
      " 25  Pace/Diving           17034 non-null  int64  \n",
      " 26  Shooting/Handling     17034 non-null  int64  \n",
      " 27  Passing/Kicking       17034 non-null  int64  \n",
      " 28  Dribling/Reflexes     17034 non-null  int64  \n",
      " 29  Defending/Pace        17034 non-null  int64  \n",
      " 30  Physical/Positioning  17034 non-null  int64  \n",
      " 31  end_year              17034 non-null  int64  \n",
      " 32  year                  17034 non-null  int64  \n",
      " 33  quarter               17034 non-null  int64  \n",
      " 34  Nation_level          17034 non-null  int64  \n",
      " 35  Position_F            17034 non-null  int64  \n",
      " 36  Position_G            17034 non-null  int64  \n",
      " 37  Position_M            17034 non-null  int64  \n",
      "dtypes: float64(3), int64(35)\n",
      "memory usage: 4.9 MB\n"
     ]
    }
   ],
   "source": [
    "df1.info()"
   ]
  },
  {
   "cell_type": "code",
   "execution_count": null,
   "id": "225ac037",
   "metadata": {},
   "outputs": [],
   "source": []
  },
  {
   "cell_type": "code",
   "execution_count": 9,
   "id": "71757547",
   "metadata": {},
   "outputs": [
    {
     "data": {
      "text/plain": [
       "'for f in tqdm(df1.columns):\\n    plt.figure(figsize=(15,5))#Distribution plot\\n    plt.subplot(121)\\n    sns.distplot(df1[f])\\n    plt.title(f)\\n\\n    plt.subplot(122)#QQplot\\n    st.probplot(df1[f], dist=\"norm\", plot=plt)\\n    plt.title(f)\\n\\n    plt.show()'"
      ]
     },
     "execution_count": 9,
     "metadata": {},
     "output_type": "execute_result"
    }
   ],
   "source": [
    "'''for f in tqdm(df1.columns):\n",
    "    plt.figure(figsize=(15,5))#Distribution plot\n",
    "    plt.subplot(121)\n",
    "    sns.distplot(df1[f])\n",
    "    plt.title(f)\n",
    "\n",
    "    plt.subplot(122)#QQplot\n",
    "    st.probplot(df1[f], dist=\"norm\", plot=plt)\n",
    "    plt.title(f)\n",
    "\n",
    "    plt.show()'''"
   ]
  },
  {
   "cell_type": "code",
   "execution_count": 10,
   "id": "11f725a8",
   "metadata": {},
   "outputs": [
    {
     "data": {
      "text/plain": [
       "'for i in tqdm(range(len(df1.columns))) :\\n    sns.boxplot(df1.iloc[:,i])\\n    plt.show()'"
      ]
     },
     "execution_count": 10,
     "metadata": {},
     "output_type": "execute_result"
    }
   ],
   "source": [
    "#Box plot\n",
    "'''for i in tqdm(range(len(df1.columns))) :\n",
    "    sns.boxplot(df1.iloc[:,i])\n",
    "    plt.show()'''"
   ]
  },
  {
   "cell_type": "code",
   "execution_count": 43,
   "id": "2d1cf898",
   "metadata": {},
   "outputs": [],
   "source": [
    "X = df1.drop(['Value','Wage','Release Clause'],axis=1)\n",
    "Y = df1['Value']"
   ]
  },
  {
   "cell_type": "code",
   "execution_count": 44,
   "id": "8098c813",
   "metadata": {},
   "outputs": [
    {
     "data": {
      "text/plain": [
       "0"
      ]
     },
     "execution_count": 44,
     "metadata": {},
     "output_type": "execute_result"
    }
   ],
   "source": [
    "X.duplicated().sum()"
   ]
  },
  {
   "cell_type": "code",
   "execution_count": 45,
   "id": "7e306cf8",
   "metadata": {},
   "outputs": [],
   "source": [
    "x_train,x_test,y_train,y_test = train_test_split(X,Y,test_size=0.4,random_state=42)"
   ]
  },
  {
   "cell_type": "code",
   "execution_count": 46,
   "id": "da6c652b",
   "metadata": {},
   "outputs": [
    {
     "data": {
      "text/plain": [
       "(17034, 35)"
      ]
     },
     "execution_count": 46,
     "metadata": {},
     "output_type": "execute_result"
    }
   ],
   "source": [
    "X.shape"
   ]
  },
  {
   "cell_type": "code",
   "execution_count": 47,
   "id": "a191ed9b",
   "metadata": {},
   "outputs": [],
   "source": [
    "#y_train=np.log1p(y_train)\n",
    "#y_test=np.log1p(y_test)"
   ]
  },
  {
   "cell_type": "code",
   "execution_count": 48,
   "id": "f4b4f7c6",
   "metadata": {},
   "outputs": [],
   "source": [
    "#print(lr.score(x_test,y_test))"
   ]
  },
  {
   "cell_type": "code",
   "execution_count": 49,
   "id": "59fd2a1b",
   "metadata": {},
   "outputs": [],
   "source": [
    "from sklearn.tree import DecisionTreeRegressor"
   ]
  },
  {
   "cell_type": "code",
   "execution_count": 50,
   "id": "6597621a",
   "metadata": {},
   "outputs": [
    {
     "name": "stdout",
     "output_type": "stream",
     "text": [
      "0.9219368677901848\n"
     ]
    }
   ],
   "source": [
    "# Apply Yeo-Johnson transformer\n",
    "\n",
    "#pt1 = PowerTransformer()\n",
    "\n",
    "#X_train_transformed2 = pt1.fit_transform(x_train)\n",
    "#X_test_transformed2 = pt1.transform(x_test)\n",
    "\n",
    "dt = DecisionTreeRegressor(random_state=40)\n",
    "dt.fit(x_train,y_train)\n",
    "\n",
    "y_pred = dt.predict(x_test)\n",
    "\n",
    "print(r2_score(y_test,y_pred))"
   ]
  },
  {
   "cell_type": "code",
   "execution_count": 51,
   "id": "8dcb2fc8",
   "metadata": {},
   "outputs": [],
   "source": [
    "y_pred1 = dt.predict(x_train)"
   ]
  },
  {
   "cell_type": "code",
   "execution_count": 52,
   "id": "ef2b829b",
   "metadata": {},
   "outputs": [
    {
     "data": {
      "text/plain": [
       "1.0"
      ]
     },
     "execution_count": 52,
     "metadata": {},
     "output_type": "execute_result"
    }
   ],
   "source": [
    "r2_score(y_train,y_pred1)"
   ]
  },
  {
   "cell_type": "code",
   "execution_count": null,
   "id": "c6a6f83d",
   "metadata": {},
   "outputs": [],
   "source": []
  },
  {
   "cell_type": "code",
   "execution_count": 53,
   "id": "7635e8bf",
   "metadata": {},
   "outputs": [
    {
     "data": {
      "text/plain": [
       "<AxesSubplot:xlabel='Value'>"
      ]
     },
     "execution_count": 53,
     "metadata": {},
     "output_type": "execute_result"
    },
    {
     "data": {
      "image/png": "[encoded data removed]",
      "text/plain": [
       "<Figure size 432x288 with 1 Axes>"
      ]
     },
     "metadata": {
      "needs_background": "light"
     },
     "output_type": "display_data"
    }
   ],
   "source": [
    "sns.regplot(x = y_test, y = y_pred, color = 'green')"
   ]
  },
  {
   "cell_type": "code",
   "execution_count": 54,
   "id": "039a6aec",
   "metadata": {},
   "outputs": [],
   "source": [
    "feature_names = list(X.columns)"
   ]
  },
  {
   "cell_type": "code",
   "execution_count": 55,
   "id": "b0108428",
   "metadata": {},
   "outputs": [
    {
     "data": {
      "image/png": "[encoded data removed]",
      "text/plain": [
       "<Figure size 1440x3600 with 1 Axes>"
      ]
     },
     "metadata": {
      "needs_background": "light"
     },
     "output_type": "display_data"
    }
   ],
   "source": [
    "importances = dt.feature_importances_\n",
    "plt.figure(figsize=(20,50))\n",
    "indices = np.argsort(importances)\n",
    "plt.barh(range(len(indices)),importances[indices],color = 'violet',align = 'center')\n",
    "plt.yticks(range(len(indices)),[feature_names[i] for i in indices])\n",
    "plt.xlabel('Relative Importance')\n",
    "plt.show()"
   ]
  },
  {
   "cell_type": "code",
   "execution_count": 56,
   "id": "def3b9fe",
   "metadata": {},
   "outputs": [],
   "source": [
    "#XGboost"
   ]
  },
  {
   "cell_type": "code",
   "execution_count": 57,
   "id": "dfd778d6",
   "metadata": {},
   "outputs": [
    {
     "name": "stdout",
     "output_type": "stream",
     "text": [
      "0.9787237833620835\n"
     ]
    }
   ],
   "source": [
    "# Apply Yeo-Johnson transformer\n",
    "\n",
    "#pt5 = PowerTransformer()\n",
    "\n",
    "#X_train_transformed5 = pt5.fit_transform(x_train)\n",
    "#X_test_transformed5 = pt5.transform(x_test)\n",
    "\n",
    "xg = XGBRegressor()\n",
    "xg.fit(x_train,y_train)\n",
    "\n",
    "y_pred2 = xg.predict(x_test)\n",
    "\n",
    "print(r2_score(y_test,y_pred2))"
   ]
  },
  {
   "cell_type": "code",
   "execution_count": 58,
   "id": "5a5286f1",
   "metadata": {},
   "outputs": [],
   "source": [
    "y_pred3 = xg.predict(x_train)"
   ]
  },
  {
   "cell_type": "code",
   "execution_count": 59,
   "id": "e1c43385",
   "metadata": {},
   "outputs": [
    {
     "data": {
      "text/plain": [
       "0.9999472512142226"
      ]
     },
     "execution_count": 59,
     "metadata": {},
     "output_type": "execute_result"
    }
   ],
   "source": [
    "r2_score(y_pred3, y_train)"
   ]
  },
  {
   "cell_type": "code",
   "execution_count": 60,
   "id": "ef6d088c",
   "metadata": {},
   "outputs": [
    {
     "data": {
      "text/plain": [
       "<AxesSubplot:xlabel='Value'>"
      ]
     },
     "execution_count": 60,
     "metadata": {},
     "output_type": "execute_result"
    },
    {
     "data": {
      "image/png": "[encoded data removed]",
      "text/plain": [
       "<Figure size 432x288 with 1 Axes>"
      ]
     },
     "metadata": {
      "needs_background": "light"
     },
     "output_type": "display_data"
    }
   ],
   "source": [
    "sns.regplot(x = y_test, y = y_pred2, color = 'green')"
   ]
  },
  {
   "cell_type": "code",
   "execution_count": 61,
   "id": "9c988eae",
   "metadata": {},
   "outputs": [
    {
     "data": {
      "image/png": "[encoded data removed]",
      "text/plain": [
       "<Figure size 1440x3600 with 1 Axes>"
      ]
     },
     "metadata": {
      "needs_background": "light"
     },
     "output_type": "display_data"
    }
   ],
   "source": [
    "importances = xg.feature_importances_\n",
    "plt.figure(figsize=(20,50))\n",
    "indices = np.argsort(importances)\n",
    "plt.barh(range(len(indices)),importances[indices],color = 'violet',align = 'center')\n",
    "plt.yticks(range(len(indices)),[feature_names[i] for i in indices])\n",
    "plt.xlabel('Relative Importance')\n",
    "plt.show()"
   ]
  },
  {
   "cell_type": "code",
   "execution_count": null,
   "id": "937d89db",
   "metadata": {},
   "outputs": [],
   "source": []
  },
  {
   "cell_type": "code",
   "execution_count": 62,
   "id": "13270574",
   "metadata": {},
   "outputs": [
    {
     "name": "stdout",
     "output_type": "stream",
     "text": [
      "0.9652118279113698\n"
     ]
    }
   ],
   "source": [
    "#RFR\n",
    "from sklearn.ensemble import RandomForestRegressor\n",
    "rfr = RandomForestRegressor(n_estimators = 100, random_state = 42).fit(x_train,y_train)\n",
    "y_pred9 = rfr.predict(x_test)\n",
    "\n",
    "print(r2_score(y_test,y_pred9))"
   ]
  },
  {
   "cell_type": "code",
   "execution_count": 63,
   "id": "dd310a08",
   "metadata": {},
   "outputs": [
    {
     "data": {
      "text/plain": [
       "0.9926040519996209"
      ]
     },
     "execution_count": 63,
     "metadata": {},
     "output_type": "execute_result"
    }
   ],
   "source": [
    "y_pred0 = rfr.predict(x_train)\n",
    "r2_score(y_pred0, y_train)"
   ]
  },
  {
   "cell_type": "code",
   "execution_count": 64,
   "id": "092e1442",
   "metadata": {},
   "outputs": [
    {
     "data": {
      "image/png": "[encoded data removed]",
      "text/plain": [
       "<Figure size 1440x3600 with 1 Axes>"
      ]
     },
     "metadata": {
      "needs_background": "light"
     },
     "output_type": "display_data"
    }
   ],
   "source": [
    "importances = rfr.feature_importances_\n",
    "plt.figure(figsize=(20,50))\n",
    "indices = np.argsort(importances)\n",
    "plt.barh(range(len(indices)),importances[indices],color = 'violet',align = 'center')\n",
    "plt.yticks(range(len(indices)),[feature_names[i] for i in indices])\n",
    "plt.xlabel('Relative Importance')\n",
    "plt.show()"
   ]
  },
  {
   "cell_type": "code",
   "execution_count": null,
   "id": "f2ef7490",
   "metadata": {},
   "outputs": [],
   "source": []
  },
  {
   "cell_type": "code",
   "execution_count": null,
   "id": "88552c7a",
   "metadata": {},
   "outputs": [],
   "source": []
  },
  {
   "cell_type": "code",
   "execution_count": null,
   "id": "cd1f51e2",
   "metadata": {},
   "outputs": [],
   "source": []
  },
  {
   "cell_type": "code",
   "execution_count": 65,
   "id": "9a16bea3",
   "metadata": {},
   "outputs": [],
   "source": [
    "df2=df1[['Best_overall','Overall_rating','Potential','Age','Value']]"
   ]
  },
  {
   "cell_type": "code",
   "execution_count": 66,
   "id": "faa16907",
   "metadata": {},
   "outputs": [
    {
     "data": {
      "text/html": [
       "<div>\n",
       "<style scoped>\n",
       "    .dataframe tbody tr th:only-of-type {\n",
       "        vertical-align: middle;\n",
       "    }\n",
       "\n",
       "    .dataframe tbody tr th {\n",
       "        vertical-align: top;\n",
       "    }\n",
       "\n",
       "    .dataframe thead th {\n",
       "        text-align: right;\n",
       "    }\n",
       "</style>\n",
       "<table border=\"1\" class=\"dataframe\">\n",
       "  <thead>\n",
       "    <tr style=\"text-align: right;\">\n",
       "      <th></th>\n",
       "      <th>Best_overall</th>\n",
       "      <th>Overall_rating</th>\n",
       "      <th>Potential</th>\n",
       "      <th>Age</th>\n",
       "      <th>Value</th>\n",
       "    </tr>\n",
       "  </thead>\n",
       "  <tbody>\n",
       "    <tr>\n",
       "      <th>0</th>\n",
       "      <td>83</td>\n",
       "      <td>81</td>\n",
       "      <td>90</td>\n",
       "      <td>19</td>\n",
       "      <td>55500000.0</td>\n",
       "    </tr>\n",
       "    <tr>\n",
       "      <th>1</th>\n",
       "      <td>79</td>\n",
       "      <td>77</td>\n",
       "      <td>86</td>\n",
       "      <td>21</td>\n",
       "      <td>23500000.0</td>\n",
       "    </tr>\n",
       "    <tr>\n",
       "      <th>2</th>\n",
       "      <td>76</td>\n",
       "      <td>74</td>\n",
       "      <td>84</td>\n",
       "      <td>21</td>\n",
       "      <td>9500000.0</td>\n",
       "    </tr>\n",
       "    <tr>\n",
       "      <th>3</th>\n",
       "      <td>75</td>\n",
       "      <td>74</td>\n",
       "      <td>84</td>\n",
       "      <td>21</td>\n",
       "      <td>9500000.0</td>\n",
       "    </tr>\n",
       "    <tr>\n",
       "      <th>4</th>\n",
       "      <td>74</td>\n",
       "      <td>73</td>\n",
       "      <td>88</td>\n",
       "      <td>18</td>\n",
       "      <td>7000000.0</td>\n",
       "    </tr>\n",
       "    <tr>\n",
       "      <th>...</th>\n",
       "      <td>...</td>\n",
       "      <td>...</td>\n",
       "      <td>...</td>\n",
       "      <td>...</td>\n",
       "      <td>...</td>\n",
       "    </tr>\n",
       "    <tr>\n",
       "      <th>17029</th>\n",
       "      <td>67</td>\n",
       "      <td>65</td>\n",
       "      <td>73</td>\n",
       "      <td>22</td>\n",
       "      <td>1600000.0</td>\n",
       "    </tr>\n",
       "    <tr>\n",
       "      <th>17030</th>\n",
       "      <td>74</td>\n",
       "      <td>73</td>\n",
       "      <td>76</td>\n",
       "      <td>24</td>\n",
       "      <td>3800000.0</td>\n",
       "    </tr>\n",
       "    <tr>\n",
       "      <th>17031</th>\n",
       "      <td>69</td>\n",
       "      <td>69</td>\n",
       "      <td>72</td>\n",
       "      <td>25</td>\n",
       "      <td>1400000.0</td>\n",
       "    </tr>\n",
       "    <tr>\n",
       "      <th>17032</th>\n",
       "      <td>60</td>\n",
       "      <td>58</td>\n",
       "      <td>66</td>\n",
       "      <td>21</td>\n",
       "      <td>425000.0</td>\n",
       "    </tr>\n",
       "    <tr>\n",
       "      <th>17033</th>\n",
       "      <td>70</td>\n",
       "      <td>69</td>\n",
       "      <td>74</td>\n",
       "      <td>25</td>\n",
       "      <td>1900000.0</td>\n",
       "    </tr>\n",
       "  </tbody>\n",
       "</table>\n",
       "<p>17034 rows × 5 columns</p>\n",
       "</div>"
      ],
      "text/plain": [
       "       Best_overall  Overall_rating  Potential  Age       Value\n",
       "0                83              81         90   19  55500000.0\n",
       "1                79              77         86   21  23500000.0\n",
       "2                76              74         84   21   9500000.0\n",
       "3                75              74         84   21   9500000.0\n",
       "4                74              73         88   18   7000000.0\n",
       "...             ...             ...        ...  ...         ...\n",
       "17029            67              65         73   22   1600000.0\n",
       "17030            74              73         76   24   3800000.0\n",
       "17031            69              69         72   25   1400000.0\n",
       "17032            60              58         66   21    425000.0\n",
       "17033            70              69         74   25   1900000.0\n",
       "\n",
       "[17034 rows x 5 columns]"
      ]
     },
     "execution_count": 66,
     "metadata": {},
     "output_type": "execute_result"
    }
   ],
   "source": [
    "df2"
   ]
  },
  {
   "cell_type": "code",
   "execution_count": 67,
   "id": "5688f80d",
   "metadata": {},
   "outputs": [
    {
     "data": {
      "text/plain": [
       "6812"
      ]
     },
     "execution_count": 67,
     "metadata": {},
     "output_type": "execute_result"
    }
   ],
   "source": [
    "df2.duplicated().sum()"
   ]
  },
  {
   "cell_type": "code",
   "execution_count": 70,
   "id": "172c867f",
   "metadata": {},
   "outputs": [],
   "source": [
    "dup = df2[df2.duplicated(['Best_overall','Overall_rating','Potential','Age'])]"
   ]
  },
  {
   "cell_type": "code",
   "execution_count": 71,
   "id": "82f8f3a2",
   "metadata": {},
   "outputs": [
    {
     "data": {
      "text/html": [
       "<div>\n",
       "<style scoped>\n",
       "    .dataframe tbody tr th:only-of-type {\n",
       "        vertical-align: middle;\n",
       "    }\n",
       "\n",
       "    .dataframe tbody tr th {\n",
       "        vertical-align: top;\n",
       "    }\n",
       "\n",
       "    .dataframe thead th {\n",
       "        text-align: right;\n",
       "    }\n",
       "</style>\n",
       "<table border=\"1\" class=\"dataframe\">\n",
       "  <thead>\n",
       "    <tr style=\"text-align: right;\">\n",
       "      <th></th>\n",
       "      <th>Best_overall</th>\n",
       "      <th>Overall_rating</th>\n",
       "      <th>Potential</th>\n",
       "      <th>Age</th>\n",
       "      <th>Value</th>\n",
       "    </tr>\n",
       "  </thead>\n",
       "  <tbody>\n",
       "    <tr>\n",
       "      <th>36</th>\n",
       "      <td>84</td>\n",
       "      <td>82</td>\n",
       "      <td>88</td>\n",
       "      <td>22</td>\n",
       "      <td>44500000.0</td>\n",
       "    </tr>\n",
       "    <tr>\n",
       "      <th>48</th>\n",
       "      <td>81</td>\n",
       "      <td>79</td>\n",
       "      <td>89</td>\n",
       "      <td>22</td>\n",
       "      <td>39500000.0</td>\n",
       "    </tr>\n",
       "    <tr>\n",
       "      <th>56</th>\n",
       "      <td>84</td>\n",
       "      <td>84</td>\n",
       "      <td>88</td>\n",
       "      <td>22</td>\n",
       "      <td>57000000.0</td>\n",
       "    </tr>\n",
       "    <tr>\n",
       "      <th>78</th>\n",
       "      <td>75</td>\n",
       "      <td>75</td>\n",
       "      <td>85</td>\n",
       "      <td>19</td>\n",
       "      <td>11500000.0</td>\n",
       "    </tr>\n",
       "    <tr>\n",
       "      <th>103</th>\n",
       "      <td>82</td>\n",
       "      <td>80</td>\n",
       "      <td>86</td>\n",
       "      <td>23</td>\n",
       "      <td>33500000.0</td>\n",
       "    </tr>\n",
       "    <tr>\n",
       "      <th>...</th>\n",
       "      <td>...</td>\n",
       "      <td>...</td>\n",
       "      <td>...</td>\n",
       "      <td>...</td>\n",
       "      <td>...</td>\n",
       "    </tr>\n",
       "    <tr>\n",
       "      <th>17029</th>\n",
       "      <td>67</td>\n",
       "      <td>65</td>\n",
       "      <td>73</td>\n",
       "      <td>22</td>\n",
       "      <td>1600000.0</td>\n",
       "    </tr>\n",
       "    <tr>\n",
       "      <th>17030</th>\n",
       "      <td>74</td>\n",
       "      <td>73</td>\n",
       "      <td>76</td>\n",
       "      <td>24</td>\n",
       "      <td>3800000.0</td>\n",
       "    </tr>\n",
       "    <tr>\n",
       "      <th>17031</th>\n",
       "      <td>69</td>\n",
       "      <td>69</td>\n",
       "      <td>72</td>\n",
       "      <td>25</td>\n",
       "      <td>1400000.0</td>\n",
       "    </tr>\n",
       "    <tr>\n",
       "      <th>17032</th>\n",
       "      <td>60</td>\n",
       "      <td>58</td>\n",
       "      <td>66</td>\n",
       "      <td>21</td>\n",
       "      <td>425000.0</td>\n",
       "    </tr>\n",
       "    <tr>\n",
       "      <th>17033</th>\n",
       "      <td>70</td>\n",
       "      <td>69</td>\n",
       "      <td>74</td>\n",
       "      <td>25</td>\n",
       "      <td>1900000.0</td>\n",
       "    </tr>\n",
       "  </tbody>\n",
       "</table>\n",
       "<p>9870 rows × 5 columns</p>\n",
       "</div>"
      ],
      "text/plain": [
       "       Best_overall  Overall_rating  Potential  Age       Value\n",
       "36               84              82         88   22  44500000.0\n",
       "48               81              79         89   22  39500000.0\n",
       "56               84              84         88   22  57000000.0\n",
       "78               75              75         85   19  11500000.0\n",
       "103              82              80         86   23  33500000.0\n",
       "...             ...             ...        ...  ...         ...\n",
       "17029            67              65         73   22   1600000.0\n",
       "17030            74              73         76   24   3800000.0\n",
       "17031            69              69         72   25   1400000.0\n",
       "17032            60              58         66   21    425000.0\n",
       "17033            70              69         74   25   1900000.0\n",
       "\n",
       "[9870 rows x 5 columns]"
      ]
     },
     "execution_count": 71,
     "metadata": {},
     "output_type": "execute_result"
    }
   ],
   "source": [
    "dup"
   ]
  },
  {
   "cell_type": "code",
   "execution_count": 72,
   "id": "aa51df28",
   "metadata": {},
   "outputs": [],
   "source": [
    "drop_list=list(dup.index)"
   ]
  },
  {
   "cell_type": "code",
   "execution_count": 73,
   "id": "be8b6066",
   "metadata": {},
   "outputs": [],
   "source": [
    "df2.drop(drop_list, axis = 0, inplace = True)"
   ]
  },
  {
   "cell_type": "code",
   "execution_count": 74,
   "id": "29e2626b",
   "metadata": {},
   "outputs": [
    {
     "data": {
      "text/html": [
       "<div>\n",
       "<style scoped>\n",
       "    .dataframe tbody tr th:only-of-type {\n",
       "        vertical-align: middle;\n",
       "    }\n",
       "\n",
       "    .dataframe tbody tr th {\n",
       "        vertical-align: top;\n",
       "    }\n",
       "\n",
       "    .dataframe thead th {\n",
       "        text-align: right;\n",
       "    }\n",
       "</style>\n",
       "<table border=\"1\" class=\"dataframe\">\n",
       "  <thead>\n",
       "    <tr style=\"text-align: right;\">\n",
       "      <th></th>\n",
       "      <th>Best_overall</th>\n",
       "      <th>Overall_rating</th>\n",
       "      <th>Potential</th>\n",
       "      <th>Age</th>\n",
       "      <th>Value</th>\n",
       "    </tr>\n",
       "  </thead>\n",
       "  <tbody>\n",
       "    <tr>\n",
       "      <th>0</th>\n",
       "      <td>83</td>\n",
       "      <td>81</td>\n",
       "      <td>90</td>\n",
       "      <td>19</td>\n",
       "      <td>55500000.0</td>\n",
       "    </tr>\n",
       "    <tr>\n",
       "      <th>1</th>\n",
       "      <td>79</td>\n",
       "      <td>77</td>\n",
       "      <td>86</td>\n",
       "      <td>21</td>\n",
       "      <td>23500000.0</td>\n",
       "    </tr>\n",
       "    <tr>\n",
       "      <th>2</th>\n",
       "      <td>76</td>\n",
       "      <td>74</td>\n",
       "      <td>84</td>\n",
       "      <td>21</td>\n",
       "      <td>9500000.0</td>\n",
       "    </tr>\n",
       "    <tr>\n",
       "      <th>3</th>\n",
       "      <td>75</td>\n",
       "      <td>74</td>\n",
       "      <td>84</td>\n",
       "      <td>21</td>\n",
       "      <td>9500000.0</td>\n",
       "    </tr>\n",
       "    <tr>\n",
       "      <th>4</th>\n",
       "      <td>74</td>\n",
       "      <td>73</td>\n",
       "      <td>88</td>\n",
       "      <td>18</td>\n",
       "      <td>7000000.0</td>\n",
       "    </tr>\n",
       "    <tr>\n",
       "      <th>...</th>\n",
       "      <td>...</td>\n",
       "      <td>...</td>\n",
       "      <td>...</td>\n",
       "      <td>...</td>\n",
       "      <td>...</td>\n",
       "    </tr>\n",
       "    <tr>\n",
       "      <th>17001</th>\n",
       "      <td>59</td>\n",
       "      <td>60</td>\n",
       "      <td>71</td>\n",
       "      <td>18</td>\n",
       "      <td>325000.0</td>\n",
       "    </tr>\n",
       "    <tr>\n",
       "      <th>17006</th>\n",
       "      <td>56</td>\n",
       "      <td>57</td>\n",
       "      <td>66</td>\n",
       "      <td>20</td>\n",
       "      <td>140000.0</td>\n",
       "    </tr>\n",
       "    <tr>\n",
       "      <th>17018</th>\n",
       "      <td>61</td>\n",
       "      <td>62</td>\n",
       "      <td>81</td>\n",
       "      <td>17</td>\n",
       "      <td>550000.0</td>\n",
       "    </tr>\n",
       "    <tr>\n",
       "      <th>17020</th>\n",
       "      <td>53</td>\n",
       "      <td>54</td>\n",
       "      <td>62</td>\n",
       "      <td>21</td>\n",
       "      <td>100000.0</td>\n",
       "    </tr>\n",
       "    <tr>\n",
       "      <th>17023</th>\n",
       "      <td>55</td>\n",
       "      <td>56</td>\n",
       "      <td>72</td>\n",
       "      <td>19</td>\n",
       "      <td>170000.0</td>\n",
       "    </tr>\n",
       "  </tbody>\n",
       "</table>\n",
       "<p>7164 rows × 5 columns</p>\n",
       "</div>"
      ],
      "text/plain": [
       "       Best_overall  Overall_rating  Potential  Age       Value\n",
       "0                83              81         90   19  55500000.0\n",
       "1                79              77         86   21  23500000.0\n",
       "2                76              74         84   21   9500000.0\n",
       "3                75              74         84   21   9500000.0\n",
       "4                74              73         88   18   7000000.0\n",
       "...             ...             ...        ...  ...         ...\n",
       "17001            59              60         71   18    325000.0\n",
       "17006            56              57         66   20    140000.0\n",
       "17018            61              62         81   17    550000.0\n",
       "17020            53              54         62   21    100000.0\n",
       "17023            55              56         72   19    170000.0\n",
       "\n",
       "[7164 rows x 5 columns]"
      ]
     },
     "execution_count": 74,
     "metadata": {},
     "output_type": "execute_result"
    }
   ],
   "source": [
    "df2"
   ]
  },
  {
   "cell_type": "code",
   "execution_count": 75,
   "id": "3fa88894",
   "metadata": {},
   "outputs": [],
   "source": [
    "df2=df2.reset_index()"
   ]
  },
  {
   "cell_type": "code",
   "execution_count": 76,
   "id": "1ce8cc1a",
   "metadata": {},
   "outputs": [
    {
     "data": {
      "text/html": [
       "<div>\n",
       "<style scoped>\n",
       "    .dataframe tbody tr th:only-of-type {\n",
       "        vertical-align: middle;\n",
       "    }\n",
       "\n",
       "    .dataframe tbody tr th {\n",
       "        vertical-align: top;\n",
       "    }\n",
       "\n",
       "    .dataframe thead th {\n",
       "        text-align: right;\n",
       "    }\n",
       "</style>\n",
       "<table border=\"1\" class=\"dataframe\">\n",
       "  <thead>\n",
       "    <tr style=\"text-align: right;\">\n",
       "      <th></th>\n",
       "      <th>index</th>\n",
       "      <th>Best_overall</th>\n",
       "      <th>Overall_rating</th>\n",
       "      <th>Potential</th>\n",
       "      <th>Age</th>\n",
       "      <th>Value</th>\n",
       "    </tr>\n",
       "  </thead>\n",
       "  <tbody>\n",
       "    <tr>\n",
       "      <th>0</th>\n",
       "      <td>0</td>\n",
       "      <td>83</td>\n",
       "      <td>81</td>\n",
       "      <td>90</td>\n",
       "      <td>19</td>\n",
       "      <td>55500000.0</td>\n",
       "    </tr>\n",
       "    <tr>\n",
       "      <th>1</th>\n",
       "      <td>1</td>\n",
       "      <td>79</td>\n",
       "      <td>77</td>\n",
       "      <td>86</td>\n",
       "      <td>21</td>\n",
       "      <td>23500000.0</td>\n",
       "    </tr>\n",
       "    <tr>\n",
       "      <th>2</th>\n",
       "      <td>2</td>\n",
       "      <td>76</td>\n",
       "      <td>74</td>\n",
       "      <td>84</td>\n",
       "      <td>21</td>\n",
       "      <td>9500000.0</td>\n",
       "    </tr>\n",
       "    <tr>\n",
       "      <th>3</th>\n",
       "      <td>3</td>\n",
       "      <td>75</td>\n",
       "      <td>74</td>\n",
       "      <td>84</td>\n",
       "      <td>21</td>\n",
       "      <td>9500000.0</td>\n",
       "    </tr>\n",
       "    <tr>\n",
       "      <th>4</th>\n",
       "      <td>4</td>\n",
       "      <td>74</td>\n",
       "      <td>73</td>\n",
       "      <td>88</td>\n",
       "      <td>18</td>\n",
       "      <td>7000000.0</td>\n",
       "    </tr>\n",
       "    <tr>\n",
       "      <th>...</th>\n",
       "      <td>...</td>\n",
       "      <td>...</td>\n",
       "      <td>...</td>\n",
       "      <td>...</td>\n",
       "      <td>...</td>\n",
       "      <td>...</td>\n",
       "    </tr>\n",
       "    <tr>\n",
       "      <th>7159</th>\n",
       "      <td>17001</td>\n",
       "      <td>59</td>\n",
       "      <td>60</td>\n",
       "      <td>71</td>\n",
       "      <td>18</td>\n",
       "      <td>325000.0</td>\n",
       "    </tr>\n",
       "    <tr>\n",
       "      <th>7160</th>\n",
       "      <td>17006</td>\n",
       "      <td>56</td>\n",
       "      <td>57</td>\n",
       "      <td>66</td>\n",
       "      <td>20</td>\n",
       "      <td>140000.0</td>\n",
       "    </tr>\n",
       "    <tr>\n",
       "      <th>7161</th>\n",
       "      <td>17018</td>\n",
       "      <td>61</td>\n",
       "      <td>62</td>\n",
       "      <td>81</td>\n",
       "      <td>17</td>\n",
       "      <td>550000.0</td>\n",
       "    </tr>\n",
       "    <tr>\n",
       "      <th>7162</th>\n",
       "      <td>17020</td>\n",
       "      <td>53</td>\n",
       "      <td>54</td>\n",
       "      <td>62</td>\n",
       "      <td>21</td>\n",
       "      <td>100000.0</td>\n",
       "    </tr>\n",
       "    <tr>\n",
       "      <th>7163</th>\n",
       "      <td>17023</td>\n",
       "      <td>55</td>\n",
       "      <td>56</td>\n",
       "      <td>72</td>\n",
       "      <td>19</td>\n",
       "      <td>170000.0</td>\n",
       "    </tr>\n",
       "  </tbody>\n",
       "</table>\n",
       "<p>7164 rows × 6 columns</p>\n",
       "</div>"
      ],
      "text/plain": [
       "      index  Best_overall  Overall_rating  Potential  Age       Value\n",
       "0         0            83              81         90   19  55500000.0\n",
       "1         1            79              77         86   21  23500000.0\n",
       "2         2            76              74         84   21   9500000.0\n",
       "3         3            75              74         84   21   9500000.0\n",
       "4         4            74              73         88   18   7000000.0\n",
       "...     ...           ...             ...        ...  ...         ...\n",
       "7159  17001            59              60         71   18    325000.0\n",
       "7160  17006            56              57         66   20    140000.0\n",
       "7161  17018            61              62         81   17    550000.0\n",
       "7162  17020            53              54         62   21    100000.0\n",
       "7163  17023            55              56         72   19    170000.0\n",
       "\n",
       "[7164 rows x 6 columns]"
      ]
     },
     "execution_count": 76,
     "metadata": {},
     "output_type": "execute_result"
    }
   ],
   "source": [
    "df2"
   ]
  },
  {
   "cell_type": "code",
   "execution_count": 77,
   "id": "95d012dd",
   "metadata": {},
   "outputs": [],
   "source": [
    "df2.drop('index',axis=1,inplace=True)"
   ]
  },
  {
   "cell_type": "code",
   "execution_count": 78,
   "id": "004b4a19",
   "metadata": {},
   "outputs": [
    {
     "data": {
      "text/html": [
       "<div>\n",
       "<style scoped>\n",
       "    .dataframe tbody tr th:only-of-type {\n",
       "        vertical-align: middle;\n",
       "    }\n",
       "\n",
       "    .dataframe tbody tr th {\n",
       "        vertical-align: top;\n",
       "    }\n",
       "\n",
       "    .dataframe thead th {\n",
       "        text-align: right;\n",
       "    }\n",
       "</style>\n",
       "<table border=\"1\" class=\"dataframe\">\n",
       "  <thead>\n",
       "    <tr style=\"text-align: right;\">\n",
       "      <th></th>\n",
       "      <th>Best_overall</th>\n",
       "      <th>Overall_rating</th>\n",
       "      <th>Potential</th>\n",
       "      <th>Age</th>\n",
       "      <th>Value</th>\n",
       "    </tr>\n",
       "  </thead>\n",
       "  <tbody>\n",
       "    <tr>\n",
       "      <th>0</th>\n",
       "      <td>83</td>\n",
       "      <td>81</td>\n",
       "      <td>90</td>\n",
       "      <td>19</td>\n",
       "      <td>55500000.0</td>\n",
       "    </tr>\n",
       "    <tr>\n",
       "      <th>1</th>\n",
       "      <td>79</td>\n",
       "      <td>77</td>\n",
       "      <td>86</td>\n",
       "      <td>21</td>\n",
       "      <td>23500000.0</td>\n",
       "    </tr>\n",
       "    <tr>\n",
       "      <th>2</th>\n",
       "      <td>76</td>\n",
       "      <td>74</td>\n",
       "      <td>84</td>\n",
       "      <td>21</td>\n",
       "      <td>9500000.0</td>\n",
       "    </tr>\n",
       "    <tr>\n",
       "      <th>3</th>\n",
       "      <td>75</td>\n",
       "      <td>74</td>\n",
       "      <td>84</td>\n",
       "      <td>21</td>\n",
       "      <td>9500000.0</td>\n",
       "    </tr>\n",
       "    <tr>\n",
       "      <th>4</th>\n",
       "      <td>74</td>\n",
       "      <td>73</td>\n",
       "      <td>88</td>\n",
       "      <td>18</td>\n",
       "      <td>7000000.0</td>\n",
       "    </tr>\n",
       "    <tr>\n",
       "      <th>...</th>\n",
       "      <td>...</td>\n",
       "      <td>...</td>\n",
       "      <td>...</td>\n",
       "      <td>...</td>\n",
       "      <td>...</td>\n",
       "    </tr>\n",
       "    <tr>\n",
       "      <th>7159</th>\n",
       "      <td>59</td>\n",
       "      <td>60</td>\n",
       "      <td>71</td>\n",
       "      <td>18</td>\n",
       "      <td>325000.0</td>\n",
       "    </tr>\n",
       "    <tr>\n",
       "      <th>7160</th>\n",
       "      <td>56</td>\n",
       "      <td>57</td>\n",
       "      <td>66</td>\n",
       "      <td>20</td>\n",
       "      <td>140000.0</td>\n",
       "    </tr>\n",
       "    <tr>\n",
       "      <th>7161</th>\n",
       "      <td>61</td>\n",
       "      <td>62</td>\n",
       "      <td>81</td>\n",
       "      <td>17</td>\n",
       "      <td>550000.0</td>\n",
       "    </tr>\n",
       "    <tr>\n",
       "      <th>7162</th>\n",
       "      <td>53</td>\n",
       "      <td>54</td>\n",
       "      <td>62</td>\n",
       "      <td>21</td>\n",
       "      <td>100000.0</td>\n",
       "    </tr>\n",
       "    <tr>\n",
       "      <th>7163</th>\n",
       "      <td>55</td>\n",
       "      <td>56</td>\n",
       "      <td>72</td>\n",
       "      <td>19</td>\n",
       "      <td>170000.0</td>\n",
       "    </tr>\n",
       "  </tbody>\n",
       "</table>\n",
       "<p>7164 rows × 5 columns</p>\n",
       "</div>"
      ],
      "text/plain": [
       "      Best_overall  Overall_rating  Potential  Age       Value\n",
       "0               83              81         90   19  55500000.0\n",
       "1               79              77         86   21  23500000.0\n",
       "2               76              74         84   21   9500000.0\n",
       "3               75              74         84   21   9500000.0\n",
       "4               74              73         88   18   7000000.0\n",
       "...            ...             ...        ...  ...         ...\n",
       "7159            59              60         71   18    325000.0\n",
       "7160            56              57         66   20    140000.0\n",
       "7161            61              62         81   17    550000.0\n",
       "7162            53              54         62   21    100000.0\n",
       "7163            55              56         72   19    170000.0\n",
       "\n",
       "[7164 rows x 5 columns]"
      ]
     },
     "execution_count": 78,
     "metadata": {},
     "output_type": "execute_result"
    }
   ],
   "source": [
    "df2"
   ]
  },
  {
   "cell_type": "code",
   "execution_count": 79,
   "id": "d6ab6b4a",
   "metadata": {},
   "outputs": [],
   "source": [
    "#df2.to_csv('n2.csv',index=False)"
   ]
  },
  {
   "cell_type": "code",
   "execution_count": 96,
   "id": "455689cf",
   "metadata": {},
   "outputs": [],
   "source": [
    "import copy"
   ]
  },
  {
   "cell_type": "code",
   "execution_count": 97,
   "id": "703ad148",
   "metadata": {},
   "outputs": [],
   "source": [
    "df3=copy.deepcopy(df2)"
   ]
  },
  {
   "cell_type": "code",
   "execution_count": 116,
   "id": "5b55d76d",
   "metadata": {},
   "outputs": [
    {
     "data": {
      "text/html": [
       "<div>\n",
       "<style scoped>\n",
       "    .dataframe tbody tr th:only-of-type {\n",
       "        vertical-align: middle;\n",
       "    }\n",
       "\n",
       "    .dataframe tbody tr th {\n",
       "        vertical-align: top;\n",
       "    }\n",
       "\n",
       "    .dataframe thead th {\n",
       "        text-align: right;\n",
       "    }\n",
       "</style>\n",
       "<table border=\"1\" class=\"dataframe\">\n",
       "  <thead>\n",
       "    <tr style=\"text-align: right;\">\n",
       "      <th></th>\n",
       "      <th>Best_overall</th>\n",
       "      <th>Overall_rating</th>\n",
       "      <th>Potential</th>\n",
       "      <th>Age</th>\n",
       "      <th>Value</th>\n",
       "    </tr>\n",
       "  </thead>\n",
       "  <tbody>\n",
       "    <tr>\n",
       "      <th>0</th>\n",
       "      <td>83</td>\n",
       "      <td>81</td>\n",
       "      <td>90</td>\n",
       "      <td>19</td>\n",
       "      <td>55500000.0</td>\n",
       "    </tr>\n",
       "    <tr>\n",
       "      <th>1</th>\n",
       "      <td>79</td>\n",
       "      <td>77</td>\n",
       "      <td>86</td>\n",
       "      <td>21</td>\n",
       "      <td>23500000.0</td>\n",
       "    </tr>\n",
       "    <tr>\n",
       "      <th>2</th>\n",
       "      <td>76</td>\n",
       "      <td>74</td>\n",
       "      <td>84</td>\n",
       "      <td>21</td>\n",
       "      <td>9500000.0</td>\n",
       "    </tr>\n",
       "    <tr>\n",
       "      <th>3</th>\n",
       "      <td>75</td>\n",
       "      <td>74</td>\n",
       "      <td>84</td>\n",
       "      <td>21</td>\n",
       "      <td>9500000.0</td>\n",
       "    </tr>\n",
       "    <tr>\n",
       "      <th>4</th>\n",
       "      <td>74</td>\n",
       "      <td>73</td>\n",
       "      <td>88</td>\n",
       "      <td>18</td>\n",
       "      <td>7000000.0</td>\n",
       "    </tr>\n",
       "    <tr>\n",
       "      <th>...</th>\n",
       "      <td>...</td>\n",
       "      <td>...</td>\n",
       "      <td>...</td>\n",
       "      <td>...</td>\n",
       "      <td>...</td>\n",
       "    </tr>\n",
       "    <tr>\n",
       "      <th>7159</th>\n",
       "      <td>59</td>\n",
       "      <td>60</td>\n",
       "      <td>71</td>\n",
       "      <td>18</td>\n",
       "      <td>325000.0</td>\n",
       "    </tr>\n",
       "    <tr>\n",
       "      <th>7160</th>\n",
       "      <td>56</td>\n",
       "      <td>57</td>\n",
       "      <td>66</td>\n",
       "      <td>20</td>\n",
       "      <td>140000.0</td>\n",
       "    </tr>\n",
       "    <tr>\n",
       "      <th>7161</th>\n",
       "      <td>61</td>\n",
       "      <td>62</td>\n",
       "      <td>81</td>\n",
       "      <td>17</td>\n",
       "      <td>550000.0</td>\n",
       "    </tr>\n",
       "    <tr>\n",
       "      <th>7162</th>\n",
       "      <td>53</td>\n",
       "      <td>54</td>\n",
       "      <td>62</td>\n",
       "      <td>21</td>\n",
       "      <td>100000.0</td>\n",
       "    </tr>\n",
       "    <tr>\n",
       "      <th>7163</th>\n",
       "      <td>55</td>\n",
       "      <td>56</td>\n",
       "      <td>72</td>\n",
       "      <td>19</td>\n",
       "      <td>170000.0</td>\n",
       "    </tr>\n",
       "  </tbody>\n",
       "</table>\n",
       "<p>7164 rows × 5 columns</p>\n",
       "</div>"
      ],
      "text/plain": [
       "      Best_overall  Overall_rating  Potential  Age       Value\n",
       "0               83              81         90   19  55500000.0\n",
       "1               79              77         86   21  23500000.0\n",
       "2               76              74         84   21   9500000.0\n",
       "3               75              74         84   21   9500000.0\n",
       "4               74              73         88   18   7000000.0\n",
       "...            ...             ...        ...  ...         ...\n",
       "7159            59              60         71   18    325000.0\n",
       "7160            56              57         66   20    140000.0\n",
       "7161            61              62         81   17    550000.0\n",
       "7162            53              54         62   21    100000.0\n",
       "7163            55              56         72   19    170000.0\n",
       "\n",
       "[7164 rows x 5 columns]"
      ]
     },
     "execution_count": 116,
     "metadata": {},
     "output_type": "execute_result"
    }
   ],
   "source": [
    "df3"
   ]
  },
  {
   "cell_type": "code",
   "execution_count": 117,
   "id": "1cb97ae9",
   "metadata": {},
   "outputs": [],
   "source": [
    "#df3.to_csv('fifa_model.csv',index=False)"
   ]
  },
  {
   "cell_type": "code",
   "execution_count": 99,
   "id": "df5ac591",
   "metadata": {},
   "outputs": [],
   "source": [
    "X = df3.drop('Value',axis=1)\n",
    "Y = df3['Value']"
   ]
  },
  {
   "cell_type": "code",
   "execution_count": 100,
   "id": "714a1e6e",
   "metadata": {},
   "outputs": [
    {
     "data": {
      "text/html": [
       "<div>\n",
       "<style scoped>\n",
       "    .dataframe tbody tr th:only-of-type {\n",
       "        vertical-align: middle;\n",
       "    }\n",
       "\n",
       "    .dataframe tbody tr th {\n",
       "        vertical-align: top;\n",
       "    }\n",
       "\n",
       "    .dataframe thead th {\n",
       "        text-align: right;\n",
       "    }\n",
       "</style>\n",
       "<table border=\"1\" class=\"dataframe\">\n",
       "  <thead>\n",
       "    <tr style=\"text-align: right;\">\n",
       "      <th></th>\n",
       "      <th>Best_overall</th>\n",
       "      <th>Overall_rating</th>\n",
       "      <th>Potential</th>\n",
       "      <th>Age</th>\n",
       "    </tr>\n",
       "  </thead>\n",
       "  <tbody>\n",
       "    <tr>\n",
       "      <th>0</th>\n",
       "      <td>83</td>\n",
       "      <td>81</td>\n",
       "      <td>90</td>\n",
       "      <td>19</td>\n",
       "    </tr>\n",
       "    <tr>\n",
       "      <th>1</th>\n",
       "      <td>79</td>\n",
       "      <td>77</td>\n",
       "      <td>86</td>\n",
       "      <td>21</td>\n",
       "    </tr>\n",
       "    <tr>\n",
       "      <th>2</th>\n",
       "      <td>76</td>\n",
       "      <td>74</td>\n",
       "      <td>84</td>\n",
       "      <td>21</td>\n",
       "    </tr>\n",
       "    <tr>\n",
       "      <th>3</th>\n",
       "      <td>75</td>\n",
       "      <td>74</td>\n",
       "      <td>84</td>\n",
       "      <td>21</td>\n",
       "    </tr>\n",
       "    <tr>\n",
       "      <th>4</th>\n",
       "      <td>74</td>\n",
       "      <td>73</td>\n",
       "      <td>88</td>\n",
       "      <td>18</td>\n",
       "    </tr>\n",
       "    <tr>\n",
       "      <th>...</th>\n",
       "      <td>...</td>\n",
       "      <td>...</td>\n",
       "      <td>...</td>\n",
       "      <td>...</td>\n",
       "    </tr>\n",
       "    <tr>\n",
       "      <th>7159</th>\n",
       "      <td>59</td>\n",
       "      <td>60</td>\n",
       "      <td>71</td>\n",
       "      <td>18</td>\n",
       "    </tr>\n",
       "    <tr>\n",
       "      <th>7160</th>\n",
       "      <td>56</td>\n",
       "      <td>57</td>\n",
       "      <td>66</td>\n",
       "      <td>20</td>\n",
       "    </tr>\n",
       "    <tr>\n",
       "      <th>7161</th>\n",
       "      <td>61</td>\n",
       "      <td>62</td>\n",
       "      <td>81</td>\n",
       "      <td>17</td>\n",
       "    </tr>\n",
       "    <tr>\n",
       "      <th>7162</th>\n",
       "      <td>53</td>\n",
       "      <td>54</td>\n",
       "      <td>62</td>\n",
       "      <td>21</td>\n",
       "    </tr>\n",
       "    <tr>\n",
       "      <th>7163</th>\n",
       "      <td>55</td>\n",
       "      <td>56</td>\n",
       "      <td>72</td>\n",
       "      <td>19</td>\n",
       "    </tr>\n",
       "  </tbody>\n",
       "</table>\n",
       "<p>7164 rows × 4 columns</p>\n",
       "</div>"
      ],
      "text/plain": [
       "      Best_overall  Overall_rating  Potential  Age\n",
       "0               83              81         90   19\n",
       "1               79              77         86   21\n",
       "2               76              74         84   21\n",
       "3               75              74         84   21\n",
       "4               74              73         88   18\n",
       "...            ...             ...        ...  ...\n",
       "7159            59              60         71   18\n",
       "7160            56              57         66   20\n",
       "7161            61              62         81   17\n",
       "7162            53              54         62   21\n",
       "7163            55              56         72   19\n",
       "\n",
       "[7164 rows x 4 columns]"
      ]
     },
     "execution_count": 100,
     "metadata": {},
     "output_type": "execute_result"
    }
   ],
   "source": [
    "X"
   ]
  },
  {
   "cell_type": "code",
   "execution_count": 101,
   "id": "72dde7ca",
   "metadata": {},
   "outputs": [],
   "source": [
    "x_train,x_test,y_train,y_test = train_test_split(X,Y,test_size=0.2,random_state=42)"
   ]
  },
  {
   "cell_type": "code",
   "execution_count": 102,
   "id": "f473ae3d",
   "metadata": {},
   "outputs": [],
   "source": [
    "#Model"
   ]
  },
  {
   "cell_type": "code",
   "execution_count": 88,
   "id": "0e3a2194",
   "metadata": {},
   "outputs": [],
   "source": [
    "from sklearn.tree import DecisionTreeRegressor"
   ]
  },
  {
   "cell_type": "code",
   "execution_count": 89,
   "id": "da1e9e5a",
   "metadata": {},
   "outputs": [
    {
     "name": "stdout",
     "output_type": "stream",
     "text": [
      "0.966259566539723\n"
     ]
    }
   ],
   "source": [
    "# Apply Yeo-Johnson transformer\n",
    "\n",
    "#pt = PowerTransformer()\n",
    "\n",
    "#X_train_transformed = pt.fit_transform(x_train)\n",
    "#X_test_transformed = pt.transform(x_test)\n",
    "\n",
    "dt1 = DecisionTreeRegressor(random_state=42).fit(x_train,y_train)\n",
    "\n",
    "y_pred = dt1.predict(x_test)\n",
    "\n",
    "print(r2_score(y_test,y_pred))"
   ]
  },
  {
   "cell_type": "code",
   "execution_count": 91,
   "id": "8bf1b850",
   "metadata": {},
   "outputs": [
    {
     "data": {
      "text/plain": [
       "array([33000000.])"
      ]
     },
     "execution_count": 91,
     "metadata": {},
     "output_type": "execute_result"
    }
   ],
   "source": [
    "dt1.predict([[82,76,86,18]])"
   ]
  },
  {
   "cell_type": "code",
   "execution_count": 92,
   "id": "37f71f58",
   "metadata": {},
   "outputs": [],
   "source": [
    "y_pred1 = dt1.predict(x_train)"
   ]
  },
  {
   "cell_type": "code",
   "execution_count": 93,
   "id": "4d6d57dc",
   "metadata": {},
   "outputs": [
    {
     "data": {
      "text/plain": [
       "0.9999999369866371"
      ]
     },
     "execution_count": 93,
     "metadata": {},
     "output_type": "execute_result"
    }
   ],
   "source": [
    "r2_score(y_pred1, y_train)"
   ]
  },
  {
   "cell_type": "code",
   "execution_count": 94,
   "id": "8a81f1b8",
   "metadata": {},
   "outputs": [
    {
     "data": {
      "text/plain": [
       "0.8758338920911749"
      ]
     },
     "execution_count": 94,
     "metadata": {},
     "output_type": "execute_result"
    }
   ],
   "source": [
    "#Cross val score\n",
    "dt1 = DecisionTreeRegressor(random_state=42)\n",
    "np.mean(cross_val_score(dt,X,Y,scoring='r2'))"
   ]
  },
  {
   "cell_type": "code",
   "execution_count": 108,
   "id": "099bdd88",
   "metadata": {},
   "outputs": [
    {
     "name": "stdout",
     "output_type": "stream",
     "text": [
      "0.9800364057615119\n"
     ]
    }
   ],
   "source": [
    "from sklearn.ensemble import RandomForestRegressor\n",
    "rfr1 = RandomForestRegressor(n_estimators = 100, random_state = 42).fit(x_train,y_train)\n",
    "y_pred7 = rfr1.predict(x_test)\n",
    "\n",
    "print(r2_score(y_test,y_pred7))"
   ]
  },
  {
   "cell_type": "code",
   "execution_count": 109,
   "id": "66b4e2ee",
   "metadata": {},
   "outputs": [],
   "source": [
    "y_pred8 = rfr1.predict(x_train)"
   ]
  },
  {
   "cell_type": "code",
   "execution_count": 110,
   "id": "fbfc2176",
   "metadata": {},
   "outputs": [
    {
     "data": {
      "text/plain": [
       "0.9961631031774816"
      ]
     },
     "execution_count": 110,
     "metadata": {},
     "output_type": "execute_result"
    }
   ],
   "source": [
    "r2_score(y_pred8, y_train)"
   ]
  },
  {
   "cell_type": "code",
   "execution_count": 111,
   "id": "78647169",
   "metadata": {},
   "outputs": [
    {
     "data": {
      "text/plain": [
       "0.9392665861561913"
      ]
     },
     "execution_count": 111,
     "metadata": {},
     "output_type": "execute_result"
    }
   ],
   "source": [
    "#Cross val score\n",
    "rf = RandomForestRegressor(random_state=42)\n",
    "np.mean(cross_val_score(rf,X,Y,scoring='r2'))"
   ]
  },
  {
   "cell_type": "code",
   "execution_count": null,
   "id": "288f457a",
   "metadata": {},
   "outputs": [],
   "source": [
    "#XGB"
   ]
  },
  {
   "cell_type": "code",
   "execution_count": 113,
   "id": "692faf07",
   "metadata": {},
   "outputs": [
    {
     "name": "stdout",
     "output_type": "stream",
     "text": [
      "0.9648023518971167\n"
     ]
    }
   ],
   "source": [
    "xg1 = XGBRegressor().fit(x_train,y_train)\n",
    "y_pr = xg1.predict(x_test)\n",
    "print(r2_score(y_test,y_pr))"
   ]
  },
  {
   "cell_type": "code",
   "execution_count": 114,
   "id": "c1662b1d",
   "metadata": {},
   "outputs": [
    {
     "data": {
      "text/plain": [
       "0.9996764097027615"
      ]
     },
     "execution_count": 114,
     "metadata": {},
     "output_type": "execute_result"
    }
   ],
   "source": [
    "y_pr1 = xg1.predict(x_train)\n",
    "r2_score(y_pr1, y_train)"
   ]
  },
  {
   "cell_type": "code",
   "execution_count": 115,
   "id": "f21de6c4",
   "metadata": {},
   "outputs": [
    {
     "data": {
      "text/plain": [
       "0.9393991523424301"
      ]
     },
     "execution_count": 115,
     "metadata": {},
     "output_type": "execute_result"
    }
   ],
   "source": [
    "#Cross val score\n",
    "x1 = XGBRegressor(random_state=42)\n",
    "np.mean(cross_val_score(x1,X,Y,scoring='r2'))"
   ]
  },
  {
   "cell_type": "code",
   "execution_count": 204,
   "id": "68f82a03",
   "metadata": {},
   "outputs": [],
   "source": [
    "import pickle"
   ]
  },
  {
   "cell_type": "code",
   "execution_count": 205,
   "id": "9583d266",
   "metadata": {},
   "outputs": [],
   "source": [
    "#\n",
    "pickle.dump(rfr,open('model2.pkl', 'wb'))"
   ]
  },
  {
   "cell_type": "code",
   "execution_count": null,
   "id": "6f17976f",
   "metadata": {},
   "outputs": [],
   "source": []
  }
 ],
 "metadata": {
  "kernelspec": {
   "display_name": "Python 3 (ipykernel)",
   "language": "python",
   "name": "python3"
  },
  "language_info": {
   "codemirror_mode": {
    "name": "ipython",
    "version": 3
   },
   "file_extension": ".py",
   "mimetype": "text/x-python",
   "name": "python",
   "nbconvert_exporter": "python",
   "pygments_lexer": "ipython3",
   "version": "3.10.5"
  }
 },
 "nbformat": 4,
 "nbformat_minor": 5
}
