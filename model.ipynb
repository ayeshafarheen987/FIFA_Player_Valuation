{
 "cells": [
  {
   "cell_type": "code",
   "execution_count": 9,
   "id": "93d9f2be",
   "metadata": {},
   "outputs": [],
   "source": [
    "import numpy as np\n",
    "import pandas as pd\n",
    "import seaborn as sns\n",
    "import matplotlib.pyplot as plt\n",
    "import scipy.stats as st\n",
    "from sklearn.model_selection import train_test_split\n",
    "from sklearn.preprocessing import PowerTransformer\n",
    "from sklearn.linear_model import LinearRegression\n",
    "from sklearn.tree import DecisionTreeRegressor\n",
    "from sklearn.ensemble import RandomForestRegressor\n",
    "from sklearn.model_selection import cross_val_score\n",
    "from sklearn.metrics import r2_score\n",
    "pd.pandas.set_option('display.max_columns',None)\n",
    "from xgboost import XGBRegressor\n",
    "pd.options.display.max_rows=100\n",
    "import warnings\n",
    "warnings.filterwarnings(\"ignore\")\n",
    "from tqdm import tqdm"
   ]
  },
  {
   "cell_type": "code",
   "execution_count": 3,
   "id": "3dd02a72",
   "metadata": {},
   "outputs": [],
   "source": [
    "df=pd.read_csv('fifa_model.csv')"
   ]
  },
  {
   "cell_type": "code",
   "execution_count": 4,
   "id": "8f3bd329",
   "metadata": {},
   "outputs": [
    {
     "data": {
      "text/html": [
       "<div>\n",
       "<style scoped>\n",
       "    .dataframe tbody tr th:only-of-type {\n",
       "        vertical-align: middle;\n",
       "    }\n",
       "\n",
       "    .dataframe tbody tr th {\n",
       "        vertical-align: top;\n",
       "    }\n",
       "\n",
       "    .dataframe thead th {\n",
       "        text-align: right;\n",
       "    }\n",
       "</style>\n",
       "<table border=\"1\" class=\"dataframe\">\n",
       "  <thead>\n",
       "    <tr style=\"text-align: right;\">\n",
       "      <th></th>\n",
       "      <th>Best_overall</th>\n",
       "      <th>Overall_rating</th>\n",
       "      <th>Potential</th>\n",
       "      <th>Age</th>\n",
       "      <th>Value</th>\n",
       "    </tr>\n",
       "  </thead>\n",
       "  <tbody>\n",
       "    <tr>\n",
       "      <th>0</th>\n",
       "      <td>83</td>\n",
       "      <td>81</td>\n",
       "      <td>90</td>\n",
       "      <td>19</td>\n",
       "      <td>55500000.0</td>\n",
       "    </tr>\n",
       "    <tr>\n",
       "      <th>1</th>\n",
       "      <td>79</td>\n",
       "      <td>77</td>\n",
       "      <td>86</td>\n",
       "      <td>21</td>\n",
       "      <td>23500000.0</td>\n",
       "    </tr>\n",
       "    <tr>\n",
       "      <th>2</th>\n",
       "      <td>76</td>\n",
       "      <td>74</td>\n",
       "      <td>84</td>\n",
       "      <td>21</td>\n",
       "      <td>9500000.0</td>\n",
       "    </tr>\n",
       "    <tr>\n",
       "      <th>3</th>\n",
       "      <td>75</td>\n",
       "      <td>74</td>\n",
       "      <td>84</td>\n",
       "      <td>21</td>\n",
       "      <td>9500000.0</td>\n",
       "    </tr>\n",
       "    <tr>\n",
       "      <th>4</th>\n",
       "      <td>74</td>\n",
       "      <td>73</td>\n",
       "      <td>88</td>\n",
       "      <td>18</td>\n",
       "      <td>7000000.0</td>\n",
       "    </tr>\n",
       "    <tr>\n",
       "      <th>...</th>\n",
       "      <td>...</td>\n",
       "      <td>...</td>\n",
       "      <td>...</td>\n",
       "      <td>...</td>\n",
       "      <td>...</td>\n",
       "    </tr>\n",
       "    <tr>\n",
       "      <th>7159</th>\n",
       "      <td>59</td>\n",
       "      <td>60</td>\n",
       "      <td>71</td>\n",
       "      <td>18</td>\n",
       "      <td>325000.0</td>\n",
       "    </tr>\n",
       "    <tr>\n",
       "      <th>7160</th>\n",
       "      <td>56</td>\n",
       "      <td>57</td>\n",
       "      <td>66</td>\n",
       "      <td>20</td>\n",
       "      <td>140000.0</td>\n",
       "    </tr>\n",
       "    <tr>\n",
       "      <th>7161</th>\n",
       "      <td>61</td>\n",
       "      <td>62</td>\n",
       "      <td>81</td>\n",
       "      <td>17</td>\n",
       "      <td>550000.0</td>\n",
       "    </tr>\n",
       "    <tr>\n",
       "      <th>7162</th>\n",
       "      <td>53</td>\n",
       "      <td>54</td>\n",
       "      <td>62</td>\n",
       "      <td>21</td>\n",
       "      <td>100000.0</td>\n",
       "    </tr>\n",
       "    <tr>\n",
       "      <th>7163</th>\n",
       "      <td>55</td>\n",
       "      <td>56</td>\n",
       "      <td>72</td>\n",
       "      <td>19</td>\n",
       "      <td>170000.0</td>\n",
       "    </tr>\n",
       "  </tbody>\n",
       "</table>\n",
       "<p>7164 rows × 5 columns</p>\n",
       "</div>"
      ],
      "text/plain": [
       "      Best_overall  Overall_rating  Potential  Age       Value\n",
       "0               83              81         90   19  55500000.0\n",
       "1               79              77         86   21  23500000.0\n",
       "2               76              74         84   21   9500000.0\n",
       "3               75              74         84   21   9500000.0\n",
       "4               74              73         88   18   7000000.0\n",
       "...            ...             ...        ...  ...         ...\n",
       "7159            59              60         71   18    325000.0\n",
       "7160            56              57         66   20    140000.0\n",
       "7161            61              62         81   17    550000.0\n",
       "7162            53              54         62   21    100000.0\n",
       "7163            55              56         72   19    170000.0\n",
       "\n",
       "[7164 rows x 5 columns]"
      ]
     },
     "execution_count": 4,
     "metadata": {},
     "output_type": "execute_result"
    }
   ],
   "source": [
    "df"
   ]
  },
  {
   "cell_type": "code",
   "execution_count": 5,
   "id": "54ba0392",
   "metadata": {},
   "outputs": [
    {
     "data": {
      "text/plain": [
       "0"
      ]
     },
     "execution_count": 5,
     "metadata": {},
     "output_type": "execute_result"
    }
   ],
   "source": [
    "df.duplicated().sum()"
   ]
  },
  {
   "cell_type": "code",
   "execution_count": 7,
   "id": "274c58a1",
   "metadata": {},
   "outputs": [],
   "source": [
    "x = df.drop('Value',axis=1)\n",
    "y = df['Value']"
   ]
  },
  {
   "cell_type": "code",
   "execution_count": 10,
   "id": "6e70f491",
   "metadata": {},
   "outputs": [],
   "source": [
    "x_train,x_test,y_train,y_test = train_test_split(x,y,test_size=0.2,random_state=42)"
   ]
  },
  {
   "cell_type": "code",
   "execution_count": null,
   "id": "a45e6b7e",
   "metadata": {},
   "outputs": [],
   "source": [
    "#DecisionTreeRegressor"
   ]
  },
  {
   "cell_type": "code",
   "execution_count": 17,
   "id": "2c38b0ae",
   "metadata": {},
   "outputs": [
    {
     "name": "stdout",
     "output_type": "stream",
     "text": [
      "0.965019693507445\n",
      "0.9999999369866371\n"
     ]
    }
   ],
   "source": [
    "d = DecisionTreeRegressor(random_state=42).fit(x_train,y_train)\n",
    "p = d.predict(x_test)\n",
    "p1 = d.predict(x_train)\n",
    "print(r2_score(p,y_test))\n",
    "\n",
    "print(r2_score(p1,y_train))"
   ]
  },
  {
   "cell_type": "code",
   "execution_count": 13,
   "id": "2b0d2faa",
   "metadata": {},
   "outputs": [],
   "source": [
    "#RandomForestRegressor"
   ]
  },
  {
   "cell_type": "code",
   "execution_count": 18,
   "id": "047fde24",
   "metadata": {},
   "outputs": [
    {
     "name": "stdout",
     "output_type": "stream",
     "text": [
      "0.9782784854412078\n",
      "0.9961631031774816\n"
     ]
    }
   ],
   "source": [
    "r = RandomForestRegressor(n_estimators=100,random_state=42).fit(x_train,y_train)\n",
    "pr = r.predict(x_test)\n",
    "pr1 = r.predict(x_train)\n",
    "print(r2_score(pr,y_test))\n",
    "print(r2_score(pr1,y_train))"
   ]
  },
  {
   "cell_type": "code",
   "execution_count": 19,
   "id": "630bf3a8",
   "metadata": {},
   "outputs": [],
   "source": [
    "#XGBRegressor"
   ]
  },
  {
   "cell_type": "code",
   "execution_count": 20,
   "id": "0818d69b",
   "metadata": {},
   "outputs": [
    {
     "name": "stdout",
     "output_type": "stream",
     "text": [
      "0.9602460114186904\n",
      "0.9996764097027615\n"
     ]
    }
   ],
   "source": [
    "x = XGBRegressor().fit(x_train,y_train)\n",
    "px = x.predict(x_test)\n",
    "px1 = x.predict(x_train)\n",
    "print(r2_score(px,y_test))\n",
    "print(r2_score(px1,y_train))\n"
   ]
  },
  {
   "cell_type": "code",
   "execution_count": 21,
   "id": "015d88eb",
   "metadata": {},
   "outputs": [],
   "source": [
    "import pickle"
   ]
  },
  {
   "cell_type": "code",
   "execution_count": 22,
   "id": "521550af",
   "metadata": {},
   "outputs": [],
   "source": [
    "#pickle.dump(r,open('model_Random.pkl', 'wb'))"
   ]
  },
  {
   "cell_type": "code",
   "execution_count": null,
   "id": "58a081c8",
   "metadata": {},
   "outputs": [],
   "source": []
  }
 ],
 "metadata": {
  "kernelspec": {
   "display_name": "Python 3 (ipykernel)",
   "language": "python",
   "name": "python3"
  },
  "language_info": {
   "codemirror_mode": {
    "name": "ipython",
    "version": 3
   },
   "file_extension": ".py",
   "mimetype": "text/x-python",
   "name": "python",
   "nbconvert_exporter": "python",
   "pygments_lexer": "ipython3",
   "version": "3.10.5"
  }
 },
 "nbformat": 4,
 "nbformat_minor": 5
}
